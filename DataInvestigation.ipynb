{
 "cells": [
  {
   "cell_type": "code",
   "execution_count": 203,
   "id": "abd14a9c",
   "metadata": {},
   "outputs": [],
   "source": [
    "import pandas as pd"
   ]
  },
  {
   "cell_type": "code",
   "execution_count": 204,
   "id": "1cbaf856",
   "metadata": {},
   "outputs": [],
   "source": [
    "data = pd.read_csv('./rsi_300_rows_data.csv', sep=\";\").dropna()"
   ]
  },
  {
   "cell_type": "code",
   "execution_count": 205,
   "id": "738d8205",
   "metadata": {},
   "outputs": [
    {
     "data": {
      "text/html": [
       "<div>\n",
       "<style scoped>\n",
       "    .dataframe tbody tr th:only-of-type {\n",
       "        vertical-align: middle;\n",
       "    }\n",
       "\n",
       "    .dataframe tbody tr th {\n",
       "        vertical-align: top;\n",
       "    }\n",
       "\n",
       "    .dataframe thead th {\n",
       "        text-align: right;\n",
       "    }\n",
       "</style>\n",
       "<table border=\"1\" class=\"dataframe\">\n",
       "  <thead>\n",
       "    <tr style=\"text-align: right;\">\n",
       "      <th></th>\n",
       "      <th>block_number</th>\n",
       "      <th>rsi</th>\n",
       "      <th>price0</th>\n",
       "      <th>price1</th>\n",
       "      <th>price2</th>\n",
       "      <th>price3</th>\n",
       "      <th>price4</th>\n",
       "      <th>price5</th>\n",
       "      <th>price6</th>\n",
       "      <th>diff1</th>\n",
       "      <th>diff2</th>\n",
       "      <th>diff3</th>\n",
       "      <th>diff4</th>\n",
       "      <th>diff5</th>\n",
       "      <th>diff6</th>\n",
       "    </tr>\n",
       "  </thead>\n",
       "  <tbody>\n",
       "    <tr>\n",
       "      <th>0</th>\n",
       "      <td>18088882</td>\n",
       "      <td>56.0</td>\n",
       "      <td>0.000608</td>\n",
       "      <td>0.000611</td>\n",
       "      <td>0.000612</td>\n",
       "      <td>0.000623</td>\n",
       "      <td>0.000630</td>\n",
       "      <td>0.000622</td>\n",
       "      <td>0.000629</td>\n",
       "      <td>0.50950</td>\n",
       "      <td>0.18918</td>\n",
       "      <td>1.70141</td>\n",
       "      <td>1.10269</td>\n",
       "      <td>-1.23832</td>\n",
       "      <td>1.17539</td>\n",
       "    </tr>\n",
       "    <tr>\n",
       "      <th>1</th>\n",
       "      <td>18070369</td>\n",
       "      <td>58.0</td>\n",
       "      <td>0.000613</td>\n",
       "      <td>0.000613</td>\n",
       "      <td>0.000611</td>\n",
       "      <td>0.000608</td>\n",
       "      <td>0.000611</td>\n",
       "      <td>0.000612</td>\n",
       "      <td>0.000623</td>\n",
       "      <td>0.13308</td>\n",
       "      <td>-0.38084</td>\n",
       "      <td>-0.51681</td>\n",
       "      <td>0.50950</td>\n",
       "      <td>0.18918</td>\n",
       "      <td>1.70141</td>\n",
       "    </tr>\n",
       "    <tr>\n",
       "      <th>2</th>\n",
       "      <td>18051856</td>\n",
       "      <td>47.0</td>\n",
       "      <td>0.000611</td>\n",
       "      <td>0.000611</td>\n",
       "      <td>0.000615</td>\n",
       "      <td>0.000613</td>\n",
       "      <td>0.000613</td>\n",
       "      <td>0.000611</td>\n",
       "      <td>0.000608</td>\n",
       "      <td>-0.07653</td>\n",
       "      <td>0.73640</td>\n",
       "      <td>-0.43475</td>\n",
       "      <td>0.13308</td>\n",
       "      <td>-0.38084</td>\n",
       "      <td>-0.51681</td>\n",
       "    </tr>\n",
       "    <tr>\n",
       "      <th>3</th>\n",
       "      <td>18033343</td>\n",
       "      <td>37.0</td>\n",
       "      <td>0.000586</td>\n",
       "      <td>0.000606</td>\n",
       "      <td>0.000614</td>\n",
       "      <td>0.000611</td>\n",
       "      <td>0.000611</td>\n",
       "      <td>0.000615</td>\n",
       "      <td>0.000613</td>\n",
       "      <td>3.37319</td>\n",
       "      <td>1.23286</td>\n",
       "      <td>-0.46349</td>\n",
       "      <td>-0.07653</td>\n",
       "      <td>0.73640</td>\n",
       "      <td>-0.43475</td>\n",
       "    </tr>\n",
       "    <tr>\n",
       "      <th>4</th>\n",
       "      <td>18014830</td>\n",
       "      <td>65.0</td>\n",
       "      <td>0.000607</td>\n",
       "      <td>0.000583</td>\n",
       "      <td>0.000582</td>\n",
       "      <td>0.000586</td>\n",
       "      <td>0.000606</td>\n",
       "      <td>0.000614</td>\n",
       "      <td>0.000611</td>\n",
       "      <td>-4.06634</td>\n",
       "      <td>-0.24945</td>\n",
       "      <td>0.67528</td>\n",
       "      <td>3.37319</td>\n",
       "      <td>1.23286</td>\n",
       "      <td>-0.46349</td>\n",
       "    </tr>\n",
       "  </tbody>\n",
       "</table>\n",
       "</div>"
      ],
      "text/plain": [
       "   block_number   rsi    price0    price1    price2    price3    price4  \\\n",
       "0      18088882  56.0  0.000608  0.000611  0.000612  0.000623  0.000630   \n",
       "1      18070369  58.0  0.000613  0.000613  0.000611  0.000608  0.000611   \n",
       "2      18051856  47.0  0.000611  0.000611  0.000615  0.000613  0.000613   \n",
       "3      18033343  37.0  0.000586  0.000606  0.000614  0.000611  0.000611   \n",
       "4      18014830  65.0  0.000607  0.000583  0.000582  0.000586  0.000606   \n",
       "\n",
       "     price5    price6    diff1    diff2    diff3    diff4    diff5    diff6  \n",
       "0  0.000622  0.000629  0.50950  0.18918  1.70141  1.10269 -1.23832  1.17539  \n",
       "1  0.000612  0.000623  0.13308 -0.38084 -0.51681  0.50950  0.18918  1.70141  \n",
       "2  0.000611  0.000608 -0.07653  0.73640 -0.43475  0.13308 -0.38084 -0.51681  \n",
       "3  0.000615  0.000613  3.37319  1.23286 -0.46349 -0.07653  0.73640 -0.43475  \n",
       "4  0.000614  0.000611 -4.06634 -0.24945  0.67528  3.37319  1.23286 -0.46349  "
      ]
     },
     "execution_count": 205,
     "metadata": {},
     "output_type": "execute_result"
    }
   ],
   "source": [
    "data.head()"
   ]
  },
  {
   "cell_type": "code",
   "execution_count": 206,
   "id": "186b26c8",
   "metadata": {},
   "outputs": [
    {
     "name": "stdout",
     "output_type": "stream",
     "text": [
      "<class 'pandas.core.frame.DataFrame'>\n",
      "Int64Index: 308 entries, 0 to 308\n",
      "Data columns (total 15 columns):\n",
      " #   Column        Non-Null Count  Dtype  \n",
      "---  ------        --------------  -----  \n",
      " 0   block_number  308 non-null    int64  \n",
      " 1   rsi           308 non-null    float64\n",
      " 2   price0        308 non-null    float64\n",
      " 3   price1        308 non-null    float64\n",
      " 4   price2        308 non-null    float64\n",
      " 5   price3        308 non-null    float64\n",
      " 6   price4        308 non-null    float64\n",
      " 7   price5        308 non-null    float64\n",
      " 8   price6        308 non-null    float64\n",
      " 9   diff1         308 non-null    float64\n",
      " 10  diff2         308 non-null    float64\n",
      " 11  diff3         308 non-null    float64\n",
      " 12  diff4         308 non-null    float64\n",
      " 13  diff5         308 non-null    float64\n",
      " 14  diff6         308 non-null    float64\n",
      "dtypes: float64(14), int64(1)\n",
      "memory usage: 38.5 KB\n"
     ]
    }
   ],
   "source": [
    "data.info()"
   ]
  },
  {
   "cell_type": "code",
   "execution_count": 207,
   "id": "f9781810",
   "metadata": {},
   "outputs": [],
   "source": [
    "def avg_diff(df):\n",
    "    df[\"mean_diff\"] = df.filter(like=\"diff\").mean(axis=1)"
   ]
  },
  {
   "cell_type": "code",
   "execution_count": 208,
   "id": "784dd51d",
   "metadata": {},
   "outputs": [],
   "source": [
    "def normalize_diffs(df):\n",
    "    diff_mins = df.filter(like=\"diff\").min()\n",
    "    df[diff_mins.index] = df[diff_mins.index] + diff_mins.abs()"
   ]
  },
  {
   "cell_type": "code",
   "execution_count": 209,
   "id": "b7037822",
   "metadata": {},
   "outputs": [],
   "source": [
    "normalize_diffs(data)\n",
    "avg_diff(data)"
   ]
  },
  {
   "cell_type": "code",
   "execution_count": 210,
   "id": "e42eea02",
   "metadata": {},
   "outputs": [],
   "source": [
    "filtered_data = data.loc[(data['rsi'] <= 30) | (data['rsi'] >= 70)]"
   ]
  },
  {
   "cell_type": "code",
   "execution_count": 211,
   "id": "e795db29",
   "metadata": {},
   "outputs": [
    {
     "name": "stdout",
     "output_type": "stream",
     "text": [
      "<class 'pandas.core.frame.DataFrame'>\n",
      "Int64Index: 33 entries, 7 to 308\n",
      "Data columns (total 16 columns):\n",
      " #   Column        Non-Null Count  Dtype  \n",
      "---  ------        --------------  -----  \n",
      " 0   block_number  33 non-null     int64  \n",
      " 1   rsi           33 non-null     float64\n",
      " 2   price0        33 non-null     float64\n",
      " 3   price1        33 non-null     float64\n",
      " 4   price2        33 non-null     float64\n",
      " 5   price3        33 non-null     float64\n",
      " 6   price4        33 non-null     float64\n",
      " 7   price5        33 non-null     float64\n",
      " 8   price6        33 non-null     float64\n",
      " 9   diff1         33 non-null     float64\n",
      " 10  diff2         33 non-null     float64\n",
      " 11  diff3         33 non-null     float64\n",
      " 12  diff4         33 non-null     float64\n",
      " 13  diff5         33 non-null     float64\n",
      " 14  diff6         33 non-null     float64\n",
      " 15  mean_diff     33 non-null     float64\n",
      "dtypes: float64(15), int64(1)\n",
      "memory usage: 4.4 KB\n"
     ]
    }
   ],
   "source": [
    "filtered_data.info()"
   ]
  },
  {
   "cell_type": "code",
   "execution_count": 213,
   "id": "beab58c2",
   "metadata": {},
   "outputs": [
    {
     "data": {
      "text/plain": [
       "rsi    0.077665\n",
       "dtype: float64"
      ]
     },
     "execution_count": 213,
     "metadata": {},
     "output_type": "execute_result"
    }
   ],
   "source": [
    "data.corr().filter([\"rsi\"]).filter(regex=\"^diff\", axis=0).abs().median()"
   ]
  },
  {
   "cell_type": "code",
   "execution_count": 212,
   "id": "fe679aba",
   "metadata": {},
   "outputs": [
    {
     "data": {
      "text/plain": [
       "rsi    0.235339\n",
       "dtype: float64"
      ]
     },
     "execution_count": 212,
     "metadata": {},
     "output_type": "execute_result"
    }
   ],
   "source": [
    "filtered_data.corr().filter([\"rsi\"]).filter(regex=\"^diff\", axis=0).abs().median()"
   ]
  },
  {
   "cell_type": "code",
   "execution_count": 214,
   "id": "e4835dfb",
   "metadata": {},
   "outputs": [
    {
     "data": {
      "text/html": [
       "<div>\n",
       "<style scoped>\n",
       "    .dataframe tbody tr th:only-of-type {\n",
       "        vertical-align: middle;\n",
       "    }\n",
       "\n",
       "    .dataframe tbody tr th {\n",
       "        vertical-align: top;\n",
       "    }\n",
       "\n",
       "    .dataframe thead th {\n",
       "        text-align: right;\n",
       "    }\n",
       "</style>\n",
       "<table border=\"1\" class=\"dataframe\">\n",
       "  <thead>\n",
       "    <tr style=\"text-align: right;\">\n",
       "      <th></th>\n",
       "      <th>rsi</th>\n",
       "    </tr>\n",
       "  </thead>\n",
       "  <tbody>\n",
       "    <tr>\n",
       "      <th>diff1</th>\n",
       "      <td>0.134101</td>\n",
       "    </tr>\n",
       "    <tr>\n",
       "      <th>diff2</th>\n",
       "      <td>-0.070211</td>\n",
       "    </tr>\n",
       "    <tr>\n",
       "      <th>diff3</th>\n",
       "      <td>-0.036358</td>\n",
       "    </tr>\n",
       "    <tr>\n",
       "      <th>diff4</th>\n",
       "      <td>0.191047</td>\n",
       "    </tr>\n",
       "    <tr>\n",
       "      <th>diff5</th>\n",
       "      <td>-0.085119</td>\n",
       "    </tr>\n",
       "    <tr>\n",
       "      <th>diff6</th>\n",
       "      <td>0.039988</td>\n",
       "    </tr>\n",
       "    <tr>\n",
       "      <th>mean_diff</th>\n",
       "      <td>0.078642</td>\n",
       "    </tr>\n",
       "  </tbody>\n",
       "</table>\n",
       "</div>"
      ],
      "text/plain": [
       "                rsi\n",
       "diff1      0.134101\n",
       "diff2     -0.070211\n",
       "diff3     -0.036358\n",
       "diff4      0.191047\n",
       "diff5     -0.085119\n",
       "diff6      0.039988\n",
       "mean_diff  0.078642"
      ]
     },
     "execution_count": 214,
     "metadata": {},
     "output_type": "execute_result"
    }
   ],
   "source": [
    "data.corr().filter([\"rsi\"]).filter(like=\"diff\", axis=0)"
   ]
  },
  {
   "cell_type": "code",
   "execution_count": 215,
   "id": "44857542",
   "metadata": {},
   "outputs": [
    {
     "data": {
      "text/html": [
       "<div>\n",
       "<style scoped>\n",
       "    .dataframe tbody tr th:only-of-type {\n",
       "        vertical-align: middle;\n",
       "    }\n",
       "\n",
       "    .dataframe tbody tr th {\n",
       "        vertical-align: top;\n",
       "    }\n",
       "\n",
       "    .dataframe thead th {\n",
       "        text-align: right;\n",
       "    }\n",
       "</style>\n",
       "<table border=\"1\" class=\"dataframe\">\n",
       "  <thead>\n",
       "    <tr style=\"text-align: right;\">\n",
       "      <th></th>\n",
       "      <th>rsi</th>\n",
       "    </tr>\n",
       "  </thead>\n",
       "  <tbody>\n",
       "    <tr>\n",
       "      <th>diff1</th>\n",
       "      <td>0.223677</td>\n",
       "    </tr>\n",
       "    <tr>\n",
       "      <th>diff2</th>\n",
       "      <td>-0.326972</td>\n",
       "    </tr>\n",
       "    <tr>\n",
       "      <th>diff3</th>\n",
       "      <td>-0.049968</td>\n",
       "    </tr>\n",
       "    <tr>\n",
       "      <th>diff4</th>\n",
       "      <td>0.385491</td>\n",
       "    </tr>\n",
       "    <tr>\n",
       "      <th>diff5</th>\n",
       "      <td>-0.154721</td>\n",
       "    </tr>\n",
       "    <tr>\n",
       "      <th>diff6</th>\n",
       "      <td>0.247002</td>\n",
       "    </tr>\n",
       "    <tr>\n",
       "      <th>mean_diff</th>\n",
       "      <td>0.158788</td>\n",
       "    </tr>\n",
       "  </tbody>\n",
       "</table>\n",
       "</div>"
      ],
      "text/plain": [
       "                rsi\n",
       "diff1      0.223677\n",
       "diff2     -0.326972\n",
       "diff3     -0.049968\n",
       "diff4      0.385491\n",
       "diff5     -0.154721\n",
       "diff6      0.247002\n",
       "mean_diff  0.158788"
      ]
     },
     "execution_count": 215,
     "metadata": {},
     "output_type": "execute_result"
    }
   ],
   "source": [
    "filtered_data.corr().filter([\"rsi\"]).filter(like=\"diff\", axis=0)"
   ]
  },
  {
   "cell_type": "code",
   "execution_count": null,
   "id": "93e059bc",
   "metadata": {},
   "outputs": [],
   "source": []
  }
 ],
 "metadata": {
  "kernelspec": {
   "display_name": "Python 3 (ipykernel)",
   "language": "python",
   "name": "python3"
  },
  "language_info": {
   "codemirror_mode": {
    "name": "ipython",
    "version": 3
   },
   "file_extension": ".py",
   "mimetype": "text/x-python",
   "name": "python",
   "nbconvert_exporter": "python",
   "pygments_lexer": "ipython3",
   "version": "3.11.4"
  }
 },
 "nbformat": 4,
 "nbformat_minor": 5
}
